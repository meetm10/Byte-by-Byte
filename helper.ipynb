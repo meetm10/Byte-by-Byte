{
 "cells": [
  {
   "cell_type": "code",
   "execution_count": 2,
   "metadata": {},
   "outputs": [],
   "source": [
    "from tika import parser\n",
    "import pickle\n",
    "from nltk import sent_tokenize, word_tokenize\n",
    "from nltk.corpus import stopwords"
   ]
  },
  {
   "cell_type": "code",
   "execution_count": 4,
   "metadata": {},
   "outputs": [],
   "source": [
    "def PredictChapter(filename):\n",
    "    filename = 'uploads/'+filename \n",
    "    pkl_file = open('Final.pkl', 'rb')\n",
    "    corpus = pickle.load(pkl_file)\n",
    "    if filename.split('.')[1] == 'pdf':\n",
    "        raw = parser.from_file(filename)\n",
    "        content = (raw['content'].strip())\n",
    "        sentences = content.split('\\n\\n')\n",
    "    elif filename.split('.')[1] == 'txt':\n",
    "        with open(filename, encoding=\"utf8\") as file:\n",
    "            text = file.read()\n",
    "            sentences = text.split('\\n')\n",
    "    result = []\n",
    "    stop = set(stopwords.words('english'))\n",
    "    for sent in sentences:\n",
    "        chplist = []\n",
    "        wordToken = word_tokenize(sent)\n",
    "        wordToken = [token.lower() for token in wordToken if (token.isalnum() and not token.isdigit()) and token.lower() not in stop]\n",
    "        for chps  in corpus:\n",
    "            uniscore = 0\n",
    "            bigscore = 0\n",
    "            for i in range(len(wordToken)):\n",
    "                unigram = wordToken[i]\n",
    "                if unigram in corpus[chps]:\n",
    "                    uniscore += corpus[chps][unigram]/corpus[chps]['TotalCount']\n",
    "                if i > 0:\n",
    "                    bigram = wordToken[i-1] + ' ' + wordToken[i]\n",
    "                    if bigram in corpus[chps]:\n",
    "                        bigscore += (corpus[chps][bigram]/corpus[chps][wordToken[i-1]])*(corpus[chps][bigram]/corpus[chps]['TotalCount'])\n",
    "            chplist.append([chps,uniscore,bigscore])\n",
    "        x = sorted(chplist, key = lambda a: a[1] + a[2])[-3:]\n",
    "        result.append([sent, x[-1][0]])\n",
    "    return result"
   ]
  },
  {
   "cell_type": "code",
   "execution_count": 26,
   "metadata": {},
   "outputs": [
    {
     "name": "stdout",
     "output_type": "stream",
     "text": [
      "['LinkedList', 'Divide and Conquer', 'Stacks and Queues', 'heaps', 'Trees', 'Graphs', 'Trees', 'Divide and Conquer', 'Stacks and Queues', 'heaps', 'Hashmap', 'Arrays', 'sorting']\n"
     ]
    }
   ],
   "source": [
    "result = PredictChapter('questions.txt')\n",
    "global_result = []\n",
    "global_result.extend([x[1] for x in result])\n",
    "print(global_result)"
   ]
  },
  {
   "cell_type": "code",
   "execution_count": 20,
   "metadata": {},
   "outputs": [],
   "source": [
    "import plotly"
   ]
  },
  {
   "cell_type": "code",
   "execution_count": 27,
   "metadata": {},
   "outputs": [
    {
     "name": "stdout",
     "output_type": "stream",
     "text": [
      "High five! You successfully sent some data to your account on plotly. View your plot in your browser at https://plot.ly/~meetmukadam/0 or inside your plot.ly account where it is named 'basic-bar'\n"
     ]
    },
    {
     "data": {
      "text/html": [
       "<iframe id=\"igraph\" scrolling=\"no\" style=\"border:none;\" seamless=\"seamless\" src=\"https://plot.ly/~meetmukadam/0.embed\" height=\"525px\" width=\"100%\"></iframe>"
      ],
      "text/plain": [
       "<plotly.tools.PlotlyDisplay object>"
      ]
     },
     "execution_count": 27,
     "metadata": {},
     "output_type": "execute_result"
    }
   ],
   "source": [
    "import plotly.plotly as py\n",
    "import plotly.graph_objs as go\n",
    "plotly.tools.set_credentials_file(username='meetmukadam', api_key='csCCpa10kuX8VbJFw0M6')\n",
    "\n",
    "data = [go.Bar(\n",
    "            x=list(set(global_result)),\n",
    "            y=[global_result.count(i) for i in set(global_result)]\n",
    "    )]\n",
    "\n",
    "py.iplot(data, filename='basic-bar')"
   ]
  }
 ],
 "metadata": {
  "kernelspec": {
   "display_name": "Python 3",
   "language": "python",
   "name": "python3"
  },
  "language_info": {
   "codemirror_mode": {
    "name": "ipython",
    "version": 3
   },
   "file_extension": ".py",
   "mimetype": "text/x-python",
   "name": "python",
   "nbconvert_exporter": "python",
   "pygments_lexer": "ipython3",
   "version": "3.6.7"
  }
 },
 "nbformat": 4,
 "nbformat_minor": 2
}
